{
 "cells": [
  {
   "cell_type": "code",
   "execution_count": 1,
   "id": "1605cbd0-cc76-4d8f-a57a-057aafeed264",
   "metadata": {},
   "outputs": [],
   "source": [
    "import pandas as pd\n",
    "import numpy as np\n",
    "import pickle\n",
    "from flask import Flask, request, jsonify, render_template\n",
    "from flask_cors import CORS\n",
    "from sklearn.preprocessing import StandardScaler\n",
    "from sklearn.linear_model import Ridge"
   ]
  },
  {
   "cell_type": "code",
   "execution_count": 2,
   "id": "c9c43c64-aa06-4bbb-8f84-52a1d9304771",
   "metadata": {},
   "outputs": [],
   "source": [
    "# Load the dataset and preprocess it\n",
    "df = pd.read_csv('jamboree_admission.csv').drop(columns=['Serial No.'])\n",
    "\n",
    "# Clean and preprocess the data\n",
    "df.rename(columns={'Chance of Admit ': 'Chance_of_Admit', 'LOR ': 'LOR'}, inplace=True)\n",
    "X = df.drop('Chance_of_Admit', axis=1)\n",
    "y = df['Chance_of_Admit']\n",
    "\n",
    "# Scale the data\n",
    "scaler = StandardScaler()\n",
    "X_scaled = scaler.fit_transform(X)\n",
    "X_scaled_df = pd.DataFrame(X_scaled, columns=X.columns)\n",
    "\n",
    "# Train the Ridge Regression model\n",
    "ridge = Ridge(alpha=5.0)\n",
    "ridge.fit(X_scaled_df, y)\n",
    "\n",
    "# Save the model and scaler as pickle files\n",
    "pickle.dump(ridge, open('model.pkl', 'wb'))\n",
    "pickle.dump(scaler, open('scaler.pkl', 'wb'))\n",
    "\n"
   ]
  },
  {
   "cell_type": "code",
   "execution_count": 3,
   "id": "46686699-8a64-4992-bd1f-a883afa8c05e",
   "metadata": {},
   "outputs": [],
   "source": [
    "# Initialize Flask App\n",
    "app = Flask(__name__)\n",
    "CORS(app)\n",
    "\n",
    "@app.route('/')\n",
    "def home():\n",
    "    \"\"\"\n",
    "    Render the front-end HTML page\n",
    "    \"\"\"\n",
    "    return render_template('index.html')\n",
    "\n",
    "\n",
    "@app.route('/predict', methods=['POST'])\n",
    "def predict():\n",
    "    \"\"\"\n",
    "    Handle the prediction API request\n",
    "    \"\"\"\n",
    "    try:\n",
    "        # Receive input data from frontend\n",
    "        data = request.get_json()\n",
    "\n",
    "        # Extract input data\n",
    "        gre = float(data['GRE Score'])\n",
    "        toefl = float(data['TOEFL Score'])\n",
    "        rating = float(data['University Rating'])\n",
    "        sop = float(data['SOP'])\n",
    "        lor = float(data['LOR'])\n",
    "        cgpa = float(data['CGPA'])\n",
    "        research = int(data['Research'])\n",
    "\n",
    "        # ✅ Input validation\n",
    "        if not (0 <= gre <= 340):\n",
    "            return jsonify({'error': 'Invalid GRE Score! It should be between 0 and 340.'})\n",
    "        if not (0 <= toefl <= 120):\n",
    "            return jsonify({'error': 'Invalid TOEFL Score! It should be between 0 and 120.'})\n",
    "        if not (1 <= rating <= 5):\n",
    "            return jsonify({'error': 'Invalid University Rating! It should be between 1 and 5.'})\n",
    "        if not (1 <= sop <= 5):\n",
    "            return jsonify({'error': 'Invalid SOP! It should be between 1 and 5.'})\n",
    "        if not (1 <= lor <= 5):\n",
    "            return jsonify({'error': 'Invalid LOR! It should be between 1 and 5.'})\n",
    "        if not (0 <= cgpa <= 10):\n",
    "            return jsonify({'error': 'Invalid CGPA! It should be between 0 and 10.'})\n",
    "        if research not in [0, 1]:\n",
    "            return jsonify({'error': 'Invalid Research value! It should be either 0 or 1.'})\n",
    "\n",
    "        # ✅ Load the model and scaler\n",
    "        model = pickle.load(open('model.pkl', 'rb'))\n",
    "        scaler = pickle.load(open('scaler.pkl', 'rb'))\n",
    "\n",
    "        # Prepare input for prediction\n",
    "        input_data = np.array([[gre, toefl, rating, sop, lor, cgpa, research]])\n",
    "        input_data_scaled = scaler.transform(input_data)\n",
    "\n",
    "        # ✅ Make prediction\n",
    "        prediction = model.predict(input_data_scaled)\n",
    "\n",
    "        # ✅ Return the result\n",
    "        response = {\n",
    "            'Chance of Admit': round(prediction[0], 4),\n",
    "            'Model': 'Ridge Regression',\n",
    "            'Confidence': 'High'\n",
    "        }\n",
    "        return jsonify(response)\n",
    "\n",
    "    except Exception as e:\n",
    "        # Handle any unexpected error\n",
    "        return jsonify({'error': str(e)})"
   ]
  },
  {
   "cell_type": "code",
   "execution_count": 4,
   "id": "2ae91808-3c74-409f-ba31-9458acedb59e",
   "metadata": {},
   "outputs": [],
   "source": [
    "@app.route('/health', methods=['GET'])\n",
    "def health():\n",
    "    \"\"\"\n",
    "    Health check API\n",
    "    \"\"\"\n",
    "    return jsonify({'status': 'running'})\n",
    "\n",
    "\n"
   ]
  },
  {
   "cell_type": "code",
   "execution_count": 5,
   "id": "5416efb0-00f3-47d3-b6d9-58cd96440a1b",
   "metadata": {
    "scrolled": true
   },
   "outputs": [
    {
     "name": "stdout",
     "output_type": "stream",
     "text": [
      " * Serving Flask app '__main__'\n",
      " * Debug mode: off\n"
     ]
    },
    {
     "name": "stderr",
     "output_type": "stream",
     "text": [
      "WARNING: This is a development server. Do not use it in a production deployment. Use a production WSGI server instead.\n",
      " * Running on http://127.0.0.1:5000\n",
      "Press CTRL+C to quit\n",
      "127.0.0.1 - - [11/Mar/2025 00:12:01] \"GET / HTTP/1.1\" 200 -\n"
     ]
    }
   ],
   "source": [
    "if __name__ == '__main__':\n",
    "    # Run the Flask app\n",
    "    app.run(port=5000, debug=False)"
   ]
  },
  {
   "cell_type": "code",
   "execution_count": null,
   "id": "1593728c-d280-4298-a1a0-f3106aad88aa",
   "metadata": {},
   "outputs": [],
   "source": []
  }
 ],
 "metadata": {
  "kernelspec": {
   "display_name": "Python 3 (ipykernel)",
   "language": "python",
   "name": "python3"
  },
  "language_info": {
   "codemirror_mode": {
    "name": "ipython",
    "version": 3
   },
   "file_extension": ".py",
   "mimetype": "text/x-python",
   "name": "python",
   "nbconvert_exporter": "python",
   "pygments_lexer": "ipython3",
   "version": "3.11.7"
  }
 },
 "nbformat": 4,
 "nbformat_minor": 5
}
