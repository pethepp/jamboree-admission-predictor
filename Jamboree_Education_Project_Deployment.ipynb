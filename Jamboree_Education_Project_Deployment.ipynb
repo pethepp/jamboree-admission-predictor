{
 "cells": [
  {
   "cell_type": "code",
   "execution_count": 1,
   "id": "737da120-42df-491f-9c25-52cb8a3209d6",
   "metadata": {},
   "outputs": [],
   "source": [
    "import pandas as pd\n",
    "import numpy as np\n",
    "import pickle\n",
    "from flask import Flask, request, jsonify, render_template\n",
    "from flask_cors import CORS\n",
    "from sklearn.preprocessing import StandardScaler\n",
    "from sklearn.linear_model import Ridge\n",
    "\n"
   ]
  },
  {
   "cell_type": "code",
   "execution_count": 2,
   "id": "70c172cb-1585-41d2-a75a-d99fc0fa716c",
   "metadata": {},
   "outputs": [],
   "source": [
    "# Load the dataset and preprocess it\n",
    "df = pd.read_csv('jamboree_admission.csv').drop(columns=['Serial No.'])\n",
    "\n",
    "# Clean and preprocess the data\n",
    "df.rename(columns={'Chance of Admit ': 'Chance_of_Admit', 'LOR ': 'LOR'}, inplace=True)\n",
    "X = df.drop('Chance_of_Admit', axis=1)\n",
    "y = df['Chance_of_Admit']\n",
    "\n",
    "# Scale the data\n",
    "scaler = StandardScaler()\n",
    "X_scaled = scaler.fit_transform(X)\n",
    "X_scaled_df = pd.DataFrame(X_scaled, columns=X.columns)\n",
    "\n",
    "# Train the Ridge Regression model\n",
    "ridge = Ridge(alpha=5.0)\n",
    "ridge.fit(X_scaled_df, y)\n",
    "\n",
    "# Save the model and scaler as pickle files\n",
    "pickle.dump(ridge, open('model.pkl', 'wb'))\n",
    "pickle.dump(scaler, open('scaler.pkl', 'wb'))\n",
    "\n"
   ]
  },
  {
   "cell_type": "code",
   "execution_count": 3,
   "id": "d0d650ee-1f20-4b72-93dc-1a7ee7e7aaaa",
   "metadata": {},
   "outputs": [],
   "source": [
    "# Initialize Flask App\n",
    "app = Flask(__name__)\n",
    "CORS(app)\n",
    "\n",
    "@app.route('/')\n",
    "def home():\n",
    "    \"\"\"\n",
    "    Render the front-end HTML page\n",
    "    \"\"\"\n",
    "    return render_template('index.html')\n",
    "\n",
    "\n",
    "@app.route('/predict', methods=['POST'])\n",
    "def predict():\n",
    "    \"\"\"\n",
    "    Handle the prediction API request\n",
    "    \"\"\"\n",
    "    try:\n",
    "        # Receive input data from frontend\n",
    "        data = request.get_json()\n",
    "        gre = float(data['GRE Score'])\n",
    "        toefl = float(data['TOEFL Score'])\n",
    "        rating = float(data['University Rating'])\n",
    "        sop = float(data['SOP'])\n",
    "        lor = float(data['LOR'])\n",
    "        cgpa = float(data['CGPA'])\n",
    "        research = int(data['Research'])\n",
    "\n",
    "        # Load the model and scaler\n",
    "        model = pickle.load(open('model.pkl', 'rb'))\n",
    "        scaler = pickle.load(open('scaler.pkl', 'rb'))\n",
    "\n",
    "        # Prepare input for prediction\n",
    "        input_data = np.array([[gre, toefl, rating, sop, lor, cgpa, research]])\n",
    "        input_data_scaled = scaler.transform(input_data)\n",
    "\n",
    "        # Make prediction\n",
    "        prediction = model.predict(input_data_scaled)\n",
    "        response = {\n",
    "            'Chance of Admit': round(prediction[0], 4),\n",
    "            'Model': 'Ridge Regression',\n",
    "            'Confidence': 'High'\n",
    "        }\n",
    "\n",
    "        return jsonify(response)\n",
    "\n",
    "    except Exception as e:\n",
    "        # Handle any unexpected error\n",
    "        return jsonify({'error': str(e)})\n",
    "\n",
    "\n",
    "\n"
   ]
  },
  {
   "cell_type": "code",
   "execution_count": 4,
   "id": "14b8c8f1-fc70-481f-a3f9-a48bfb6bec96",
   "metadata": {},
   "outputs": [],
   "source": [
    "@app.route('/health', methods=['GET'])\n",
    "def health():\n",
    "    \"\"\"\n",
    "    Health check API\n",
    "    \"\"\"\n",
    "    return jsonify({'status': 'running'})\n",
    "\n",
    "\n"
   ]
  },
  {
   "cell_type": "code",
   "execution_count": 6,
   "id": "8744d1a2-7619-48a5-a1bb-e49f2378e9e4",
   "metadata": {},
   "outputs": [
    {
     "name": "stdout",
     "output_type": "stream",
     "text": [
      " * Serving Flask app '__main__'\n",
      " * Debug mode: on\n"
     ]
    },
    {
     "name": "stderr",
     "output_type": "stream",
     "text": [
      "WARNING: This is a development server. Do not use it in a production deployment. Use a production WSGI server instead.\n",
      " * Running on http://127.0.0.1:5001\n",
      "Press CTRL+C to quit\n",
      " * Restarting with watchdog (windowsapi)\n"
     ]
    },
    {
     "ename": "SystemExit",
     "evalue": "1",
     "output_type": "error",
     "traceback": [
      "An exception has occurred, use %tb to see the full traceback.\n",
      "\u001b[1;31mSystemExit\u001b[0m\u001b[1;31m:\u001b[0m 1\n"
     ]
    }
   ],
   "source": [
    "if __name__ == '__main__':\n",
    "    # Run the Flask app\n",
    "    app.run(port=5000, debug=True)"
   ]
  },
  {
   "cell_type": "code",
   "execution_count": null,
   "id": "eca92a5c-e7c8-4999-9234-cb359eb4f265",
   "metadata": {},
   "outputs": [],
   "source": []
  },
  {
   "cell_type": "code",
   "execution_count": null,
   "id": "234520dd-7bbb-4749-9134-8b3e0944487b",
   "metadata": {},
   "outputs": [],
   "source": []
  },
  {
   "cell_type": "code",
   "execution_count": null,
   "id": "8623ce92-b72c-44c1-a7f2-3da6ad5b2952",
   "metadata": {},
   "outputs": [],
   "source": []
  },
  {
   "cell_type": "code",
   "execution_count": null,
   "id": "f39daee1-ff50-40f6-9725-9f7d5c0577d9",
   "metadata": {},
   "outputs": [],
   "source": []
  },
  {
   "cell_type": "code",
   "execution_count": null,
   "id": "af8d823b-f85a-4bc9-8460-0a2a00aed481",
   "metadata": {},
   "outputs": [],
   "source": []
  },
  {
   "cell_type": "code",
   "execution_count": null,
   "id": "e09e222d-832f-48d9-9bd2-78fd4e85a22c",
   "metadata": {},
   "outputs": [],
   "source": []
  },
  {
   "cell_type": "code",
   "execution_count": 2,
   "id": "6a8f50ea-bf7b-4844-955b-4bb5b021db9e",
   "metadata": {},
   "outputs": [],
   "source": [
    "df=pd.read_csv('jamboree_admission.csv').drop(columns=['Serial No.'])"
   ]
  },
  {
   "cell_type": "code",
   "execution_count": 3,
   "id": "e3805a97-95ea-4fc0-9564-8dbc4f5ac04f",
   "metadata": {},
   "outputs": [
    {
     "name": "stdout",
     "output_type": "stream",
     "text": [
      "<class 'pandas.core.frame.DataFrame'>\n",
      "RangeIndex: 500 entries, 0 to 499\n",
      "Data columns (total 8 columns):\n",
      " #   Column             Non-Null Count  Dtype  \n",
      "---  ------             --------------  -----  \n",
      " 0   GRE Score          500 non-null    int64  \n",
      " 1   TOEFL Score        500 non-null    int64  \n",
      " 2   University Rating  500 non-null    int64  \n",
      " 3   SOP                500 non-null    float64\n",
      " 4   LOR                500 non-null    float64\n",
      " 5   CGPA               500 non-null    float64\n",
      " 6   Research           500 non-null    int64  \n",
      " 7   Chance of Admit    500 non-null    float64\n",
      "dtypes: float64(4), int64(4)\n",
      "memory usage: 31.4 KB\n",
      "None\n",
      "        GRE Score  TOEFL Score  University Rating         SOP       LOR   \\\n",
      "count  500.000000   500.000000         500.000000  500.000000  500.00000   \n",
      "mean   316.472000   107.192000           3.114000    3.374000    3.48400   \n",
      "std     11.295148     6.081868           1.143512    0.991004    0.92545   \n",
      "min    290.000000    92.000000           1.000000    1.000000    1.00000   \n",
      "25%    308.000000   103.000000           2.000000    2.500000    3.00000   \n",
      "50%    317.000000   107.000000           3.000000    3.500000    3.50000   \n",
      "75%    325.000000   112.000000           4.000000    4.000000    4.00000   \n",
      "max    340.000000   120.000000           5.000000    5.000000    5.00000   \n",
      "\n",
      "             CGPA    Research  Chance of Admit   \n",
      "count  500.000000  500.000000         500.00000  \n",
      "mean     8.576440    0.560000           0.72174  \n",
      "std      0.604813    0.496884           0.14114  \n",
      "min      6.800000    0.000000           0.34000  \n",
      "25%      8.127500    0.000000           0.63000  \n",
      "50%      8.560000    1.000000           0.72000  \n",
      "75%      9.040000    1.000000           0.82000  \n",
      "max      9.920000    1.000000           0.97000  \n"
     ]
    }
   ],
   "source": [
    "print(df.info())\n",
    "print(df.describe())"
   ]
  },
  {
   "cell_type": "code",
   "execution_count": 4,
   "id": "586ceb57-3947-4aaf-96a8-8f2e08c350a7",
   "metadata": {},
   "outputs": [],
   "source": [
    "df.rename(columns={'Chance of Admit ':'Chance_of_Admit','LOR ':'LOR'},inplace=True)"
   ]
  },
  {
   "cell_type": "code",
   "execution_count": 5,
   "id": "303d4734-537c-40f6-ad57-1613864016b0",
   "metadata": {},
   "outputs": [],
   "source": [
    "X = df.drop('Chance_of_Admit', axis=1)\n",
    "y = df['Chance_of_Admit']"
   ]
  },
  {
   "cell_type": "code",
   "execution_count": 6,
   "id": "1f2fddf5-e8bf-40c1-9f34-f1b75db98453",
   "metadata": {},
   "outputs": [],
   "source": [
    "scaler = StandardScaler()\n",
    "X_scaled = scaler.fit_transform(X)\n",
    "X_scaled_df = pd.DataFrame(X_scaled, columns=X.columns)"
   ]
  },
  {
   "cell_type": "code",
   "execution_count": 7,
   "id": "b8d41d3e-d59c-4173-9e7c-25da4718d1ed",
   "metadata": {},
   "outputs": [
    {
     "data": {
      "text/html": [
       "<style>#sk-container-id-1 {color: black;background-color: white;}#sk-container-id-1 pre{padding: 0;}#sk-container-id-1 div.sk-toggleable {background-color: white;}#sk-container-id-1 label.sk-toggleable__label {cursor: pointer;display: block;width: 100%;margin-bottom: 0;padding: 0.3em;box-sizing: border-box;text-align: center;}#sk-container-id-1 label.sk-toggleable__label-arrow:before {content: \"▸\";float: left;margin-right: 0.25em;color: #696969;}#sk-container-id-1 label.sk-toggleable__label-arrow:hover:before {color: black;}#sk-container-id-1 div.sk-estimator:hover label.sk-toggleable__label-arrow:before {color: black;}#sk-container-id-1 div.sk-toggleable__content {max-height: 0;max-width: 0;overflow: hidden;text-align: left;background-color: #f0f8ff;}#sk-container-id-1 div.sk-toggleable__content pre {margin: 0.2em;color: black;border-radius: 0.25em;background-color: #f0f8ff;}#sk-container-id-1 input.sk-toggleable__control:checked~div.sk-toggleable__content {max-height: 200px;max-width: 100%;overflow: auto;}#sk-container-id-1 input.sk-toggleable__control:checked~label.sk-toggleable__label-arrow:before {content: \"▾\";}#sk-container-id-1 div.sk-estimator input.sk-toggleable__control:checked~label.sk-toggleable__label {background-color: #d4ebff;}#sk-container-id-1 div.sk-label input.sk-toggleable__control:checked~label.sk-toggleable__label {background-color: #d4ebff;}#sk-container-id-1 input.sk-hidden--visually {border: 0;clip: rect(1px 1px 1px 1px);clip: rect(1px, 1px, 1px, 1px);height: 1px;margin: -1px;overflow: hidden;padding: 0;position: absolute;width: 1px;}#sk-container-id-1 div.sk-estimator {font-family: monospace;background-color: #f0f8ff;border: 1px dotted black;border-radius: 0.25em;box-sizing: border-box;margin-bottom: 0.5em;}#sk-container-id-1 div.sk-estimator:hover {background-color: #d4ebff;}#sk-container-id-1 div.sk-parallel-item::after {content: \"\";width: 100%;border-bottom: 1px solid gray;flex-grow: 1;}#sk-container-id-1 div.sk-label:hover label.sk-toggleable__label {background-color: #d4ebff;}#sk-container-id-1 div.sk-serial::before {content: \"\";position: absolute;border-left: 1px solid gray;box-sizing: border-box;top: 0;bottom: 0;left: 50%;z-index: 0;}#sk-container-id-1 div.sk-serial {display: flex;flex-direction: column;align-items: center;background-color: white;padding-right: 0.2em;padding-left: 0.2em;position: relative;}#sk-container-id-1 div.sk-item {position: relative;z-index: 1;}#sk-container-id-1 div.sk-parallel {display: flex;align-items: stretch;justify-content: center;background-color: white;position: relative;}#sk-container-id-1 div.sk-item::before, #sk-container-id-1 div.sk-parallel-item::before {content: \"\";position: absolute;border-left: 1px solid gray;box-sizing: border-box;top: 0;bottom: 0;left: 50%;z-index: -1;}#sk-container-id-1 div.sk-parallel-item {display: flex;flex-direction: column;z-index: 1;position: relative;background-color: white;}#sk-container-id-1 div.sk-parallel-item:first-child::after {align-self: flex-end;width: 50%;}#sk-container-id-1 div.sk-parallel-item:last-child::after {align-self: flex-start;width: 50%;}#sk-container-id-1 div.sk-parallel-item:only-child::after {width: 0;}#sk-container-id-1 div.sk-dashed-wrapped {border: 1px dashed gray;margin: 0 0.4em 0.5em 0.4em;box-sizing: border-box;padding-bottom: 0.4em;background-color: white;}#sk-container-id-1 div.sk-label label {font-family: monospace;font-weight: bold;display: inline-block;line-height: 1.2em;}#sk-container-id-1 div.sk-label-container {text-align: center;}#sk-container-id-1 div.sk-container {/* jupyter's `normalize.less` sets `[hidden] { display: none; }` but bootstrap.min.css set `[hidden] { display: none !important; }` so we also need the `!important` here to be able to override the default hidden behavior on the sphinx rendered scikit-learn.org. See: https://github.com/scikit-learn/scikit-learn/issues/21755 */display: inline-block !important;position: relative;}#sk-container-id-1 div.sk-text-repr-fallback {display: none;}</style><div id=\"sk-container-id-1\" class=\"sk-top-container\"><div class=\"sk-text-repr-fallback\"><pre>Ridge(alpha=5.0)</pre><b>In a Jupyter environment, please rerun this cell to show the HTML representation or trust the notebook. <br />On GitHub, the HTML representation is unable to render, please try loading this page with nbviewer.org.</b></div><div class=\"sk-container\" hidden><div class=\"sk-item\"><div class=\"sk-estimator sk-toggleable\"><input class=\"sk-toggleable__control sk-hidden--visually\" id=\"sk-estimator-id-1\" type=\"checkbox\" checked><label for=\"sk-estimator-id-1\" class=\"sk-toggleable__label sk-toggleable__label-arrow\">Ridge</label><div class=\"sk-toggleable__content\"><pre>Ridge(alpha=5.0)</pre></div></div></div></div></div>"
      ],
      "text/plain": [
       "Ridge(alpha=5.0)"
      ]
     },
     "execution_count": 7,
     "metadata": {},
     "output_type": "execute_result"
    }
   ],
   "source": [
    "ridge = Ridge(alpha=5.0)\n",
    "ridge.fit(X_scaled_df, y)"
   ]
  },
  {
   "cell_type": "code",
   "execution_count": 8,
   "id": "7801565f-df23-4498-9f9b-4de4c5f18f13",
   "metadata": {},
   "outputs": [],
   "source": [
    "pickle.dump(ridge, open('model.pkl', 'wb'))\n",
    "pickle.dump(scaler, open('scaler.pkl', 'wb'))"
   ]
  },
  {
   "cell_type": "code",
   "execution_count": 9,
   "id": "c2834d87-7dc8-4ab8-96a0-aaa07749059f",
   "metadata": {},
   "outputs": [
    {
     "data": {
      "text/plain": [
       "<flask_cors.extension.CORS at 0x1b1e61d9c50>"
      ]
     },
     "execution_count": 9,
     "metadata": {},
     "output_type": "execute_result"
    }
   ],
   "source": [
    "app = Flask(__name__)\n",
    "CORS(app)"
   ]
  },
  {
   "cell_type": "code",
   "execution_count": 10,
   "id": "a84ef26a-0422-4d53-8447-6314fd8b3105",
   "metadata": {},
   "outputs": [],
   "source": [
    "@app.route('/')\n",
    "def home():\n",
    "    return render_template('index.html')\n"
   ]
  },
  {
   "cell_type": "code",
   "execution_count": 11,
   "id": "88218fad-dcdc-44d4-a259-38a65d2154c0",
   "metadata": {},
   "outputs": [],
   "source": [
    "\n",
    "\n",
    "@app.route('/predict', methods=['POST'])\n",
    "def predict():\n",
    "    try:\n",
    "        data = request.get_json()\n",
    "        gre = data['GRE Score']\n",
    "        toefl = data['TOEFL Score']\n",
    "        rating = data['University Rating']\n",
    "        sop = data['SOP']\n",
    "        lor = data['LOR']\n",
    "        cgpa = data['CGPA']\n",
    "        research = data['Research']\n",
    "\n",
    "        # Load the model and scaler\n",
    "        model = pickle.load(open('model.pkl', 'rb'))\n",
    "        scaler = pickle.load(open('scaler.pkl', 'rb'))\n",
    "\n",
    "        # Prepare input\n",
    "        input_data = np.array([[gre, toefl, rating, sop, lor, cgpa, research]])\n",
    "        input_data_scaled = scaler.transform(input_data)\n",
    "\n",
    "        # Predict\n",
    "        prediction = model.predict(input_data_scaled)\n",
    "        response = {\n",
    "            'Chance of Admit': round(prediction[0], 4),\n",
    "            'Model': 'Ridge Regression',\n",
    "            'Confidence': 'High'\n",
    "        }\n",
    "        return jsonify(response)\n",
    "\n",
    "    except Exception as e:\n",
    "        return jsonify({'error': str(e)})"
   ]
  },
  {
   "cell_type": "code",
   "execution_count": 12,
   "id": "453d20de-9ba0-4440-93ab-ede60098e0f1",
   "metadata": {},
   "outputs": [],
   "source": [
    "@app.route('/health', methods=['GET'])\n",
    "def health():\n",
    "    return jsonify({'status': 'running'})\n",
    "\n"
   ]
  },
  {
   "cell_type": "code",
   "execution_count": 14,
   "id": "b8f70354-aecc-43bb-bd30-401121f6ce1b",
   "metadata": {},
   "outputs": [
    {
     "name": "stdout",
     "output_type": "stream",
     "text": [
      " * Serving Flask app '__main__'\n",
      " * Debug mode: off\n"
     ]
    },
    {
     "name": "stderr",
     "output_type": "stream",
     "text": [
      "WARNING: This is a development server. Do not use it in a production deployment. Use a production WSGI server instead.\n",
      " * Running on http://127.0.0.1:5000\n",
      "Press CTRL+C to quit\n",
      "[2025-03-10 20:09:01,304] ERROR in app: Exception on / [GET]\n",
      "Traceback (most recent call last):\n",
      "  File \"F:\\Anaconda3\\Lib\\site-packages\\flask\\app.py\", line 2529, in wsgi_app\n",
      "    response = self.full_dispatch_request()\n",
      "               ^^^^^^^^^^^^^^^^^^^^^^^^^^^^\n",
      "  File \"F:\\Anaconda3\\Lib\\site-packages\\flask\\app.py\", line 1825, in full_dispatch_request\n",
      "    rv = self.handle_user_exception(e)\n",
      "         ^^^^^^^^^^^^^^^^^^^^^^^^^^^^^\n",
      "  File \"F:\\Anaconda3\\Lib\\site-packages\\flask_cors\\extension.py\", line 176, in wrapped_function\n",
      "    return cors_after_request(app.make_response(f(*args, **kwargs)))\n",
      "                                                ^^^^^^^^^^^^^^^^^^\n",
      "  File \"F:\\Anaconda3\\Lib\\site-packages\\flask\\app.py\", line 1823, in full_dispatch_request\n",
      "    rv = self.dispatch_request()\n",
      "         ^^^^^^^^^^^^^^^^^^^^^^^\n",
      "  File \"F:\\Anaconda3\\Lib\\site-packages\\flask\\app.py\", line 1799, in dispatch_request\n",
      "    return self.ensure_sync(self.view_functions[rule.endpoint])(**view_args)\n",
      "           ^^^^^^^^^^^^^^^^^^^^^^^^^^^^^^^^^^^^^^^^^^^^^^^^^^^^^^^^^^^^^^^^^\n",
      "  File \"C:\\Users\\Lenovo\\AppData\\Local\\Temp\\ipykernel_6532\\871935322.py\", line 3, in home\n",
      "    return render_template('index.html')\n",
      "           ^^^^^^^^^^^^^^^\n",
      "NameError: name 'render_template' is not defined\n",
      "127.0.0.1 - - [10/Mar/2025 20:09:01] \"GET / HTTP/1.1\" 500 -\n"
     ]
    }
   ],
   "source": [
    "if __name__ == '__main__':\n",
    "    app.run(port=5000)"
   ]
  },
  {
   "cell_type": "code",
   "execution_count": null,
   "id": "81edcf13-b27d-4c39-89a6-47b7d147e5ae",
   "metadata": {},
   "outputs": [],
   "source": []
  }
 ],
 "metadata": {
  "kernelspec": {
   "display_name": "Python 3 (ipykernel)",
   "language": "python",
   "name": "python3"
  },
  "language_info": {
   "codemirror_mode": {
    "name": "ipython",
    "version": 3
   },
   "file_extension": ".py",
   "mimetype": "text/x-python",
   "name": "python",
   "nbconvert_exporter": "python",
   "pygments_lexer": "ipython3",
   "version": "3.11.7"
  }
 },
 "nbformat": 4,
 "nbformat_minor": 5
}
